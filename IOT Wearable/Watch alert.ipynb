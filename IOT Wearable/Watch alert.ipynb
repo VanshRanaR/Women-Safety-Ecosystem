{
 "cells": [
  {
   "cell_type": "code",
   "execution_count": 1,
   "id": "088546f7-3ee4-4d18-aff1-891a7003e900",
   "metadata": {},
   "outputs": [
    {
     "name": "stdout",
     "output_type": "stream",
     "text": [
      "Requirement already satisfied: colorama in c:\\users\\asus\\anaconda3\\lib\\site-packages (0.4.6)\n"
     ]
    }
   ],
   "source": [
    "#!pip install colorama"
   ]
  },
  {
   "cell_type": "code",
   "execution_count": 1,
   "id": "79bb0f5a-a8d8-4ab9-b513-47764c32c443",
   "metadata": {},
   "outputs": [
    {
     "data": {
      "text/plain": [
       "1"
      ]
     },
     "execution_count": 1,
     "metadata": {},
     "output_type": "execute_result"
    }
   ],
   "source": [
    "import random\n",
    "import datetime\n",
    "import time\n",
    "from colorama import Fore, Back, Style, init \n",
    "\n",
    "init(autoreset=True)  # Initialize colorama\n",
    "import os\n",
    "os.system('color')"
   ]
  },
  {
   "cell_type": "code",
   "execution_count": 2,
   "id": "bfdb4a4a-a80f-4899-9c36-f72b80c3acc7",
   "metadata": {},
   "outputs": [],
   "source": [
    "class SmartWatchMonitor:\n",
    "    def __init__(self):\n",
    "        self.normal_heart_rate_range = (60, 100)\n",
    "        self.areas = [\n",
    "            {\"name\": \"Dark Alley\", \"risk\": \"High\"},\n",
    "            {\"name\": \"Isolated Park\", \"risk\": \"High\"},\n",
    "            {\"name\": \"Deserted Parking Lot\", \"risk\": \"High\"},\n",
    "            {\"name\": \"City Center\", \"risk\": \"Low\"},\n",
    "            {\"name\": \"Residential Area\", \"risk\": \"Low\"},\n",
    "            {\"name\": \"Shopping Mall\", \"risk\": \"Low\"},\n",
    "        ]\n",
    "\n",
    "    def generate_heart_rate(self):\n",
    "        if random.random() < 0.2:  # 20% chance of abnormal heart rate\n",
    "            return random.choice([\n",
    "                random.randint(40, 59),  # Low heart rate\n",
    "                random.randint(101, 130)  # High heart rate\n",
    "            ])\n",
    "        return random.randint(self.normal_heart_rate_range[0], self.normal_heart_rate_range[1])\n",
    "\n",
    "    def generate_accelerometer_data(self):\n",
    "        if random.random() < 0.2:  # 20% chance of abnormal accelerometer data\n",
    "            return (random.uniform(-2, 2), random.uniform(-2, 2), random.uniform(-2, 2))\n",
    "        return (random.uniform(-1, 1), random.uniform(-1, 1), random.uniform(-1, 1))\n",
    "\n",
    "    def detect_irregular_pattern(self, heart_rates, acc_data):\n",
    "        max_hr = max(heart_rates)\n",
    "        min_hr = min(heart_rates)\n",
    "        max_acc = max(max(acc) for acc in acc_data)\n",
    "\n",
    "        if max_hr > 120 and random.random() < 0.7:\n",
    "            return \"Panic Attack\"\n",
    "        if max_hr > 100 and max_acc > 1.5 and random.random() < 0.7:\n",
    "            return \"Running\"\n",
    "        if min_hr < 50 and max_acc < 0.2 and random.random() < 0.7:\n",
    "            return \"Collapse\"\n",
    "        if max_hr > 110 and min_hr < 55 and random.random() < 0.7:\n",
    "            return \"Potential Drugging\"\n",
    "        return None\n",
    "\n",
    "    def generate_alert(self, pattern, location, risk_level):\n",
    "        current_time = datetime.datetime.now()\n",
    "        \n",
    "        alert_color = Fore.RED if risk_level == \"High\" else Fore.YELLOW\n",
    "        \n",
    "        print(\"\\n\" + Style.BRIGHT + Back.WHITE + Fore.BLACK + \"=\" * 60)\n",
    "        print(alert_color + Style.BRIGHT + \"ALERT GENERATED\")\n",
    "        print(Style.BRIGHT + Back.WHITE + Fore.BLACK + \"=\" * 60)\n",
    "        print(f\"{Fore.CYAN}Irregular pattern detected: {Style.BRIGHT}{pattern}\")\n",
    "        print(f\"{Fore.BLUE}Date: {current_time.strftime('%Y-%m-%d')}\")\n",
    "        print(f\"{Fore.BLUE}Time: {current_time.strftime('%I:%M:%S %p')}\")\n",
    "        print(f\"{Fore.MAGENTA}Location: {location}\")\n",
    "        print(f\"{alert_color}Risk Level: {risk_level}\")\n",
    "        \n",
    "        if risk_level == \"High\":\n",
    "            print(f\"{Fore.RED}WARNING: This is a high-risk area!\")\n",
    "            print(f\"{Fore.RED}Emergency services have been notified.\")\n",
    "        else:\n",
    "            print(f\"{Fore.YELLOW}CAUTION: Stay alert in this area.\")\n",
    "\n",
    "        \n",
    "        print(Style.BRIGHT + Back.WHITE + Fore.BLACK + \"=\" * 60 + \"\\n\")"
   ]
  },
  {
   "cell_type": "code",
   "execution_count": 3,
   "id": "fb8c6fc5-0f53-4660-9b48-713f9b0666fe",
   "metadata": {},
   "outputs": [
    {
     "name": "stdout",
     "output_type": "stream",
     "text": [
      "Simulating smartwatch monitoring...\n",
      "Timestamp: 1s, Heart Rate: 74 bpm, Accelerometer: (0.8500589401047409, 0.8227805655317335, -0.47493637468011274)\n",
      "Timestamp: 2s, Heart Rate: 122 bpm, Accelerometer: (0.37510441669107597, -0.7752420800018631, -0.5900913140581827)\n",
      "Timestamp: 3s, Heart Rate: 97 bpm, Accelerometer: (-0.6904474761624653, -0.2267770440310808, 0.9693140656285597)\n",
      "Timestamp: 4s, Heart Rate: 91 bpm, Accelerometer: (-0.7221985421990424, -0.44989922314709707, -0.4170096724059371)\n",
      "Timestamp: 5s, Heart Rate: 65 bpm, Accelerometer: (-0.060929255516439795, 0.47802024226255746, -0.4614155529946009)\n",
      "\n",
      "============================================================\n",
      "ALERT GENERATED\n",
      "============================================================\n",
      "Irregular pattern detected: Panic Attack\n",
      "Date: 2025-06-06\n",
      "Time: 09:33:06 AM\n",
      "Location: City Center\n",
      "Risk Level: Low\n",
      "CAUTION: Stay alert in this area.\n",
      "============================================================\n",
      "\n"
     ]
    }
   ],
   "source": [
    "def simulate_smartwatch_monitoring():\n",
    "    monitor = SmartWatchMonitor()\n",
    "    heart_rates = []\n",
    "    acc_data = []\n",
    "    \n",
    "    print(Fore.CYAN + Style.BRIGHT + \"Simulating smartwatch monitoring...\")\n",
    "    \n",
    "    for i in range(60):\n",
    "        heart_rate = monitor.generate_heart_rate()\n",
    "        accelerometer = monitor.generate_accelerometer_data()\n",
    "        heart_rates.append(heart_rate)\n",
    "        acc_data.append(accelerometer)\n",
    "        \n",
    "        print(f\"{Fore.GREEN}Timestamp: {i+1}s, \"\n",
    "              f\"{Fore.YELLOW}Heart Rate: {heart_rate} bpm, \"\n",
    "              f\"{Fore.BLUE}Accelerometer: {accelerometer}\")\n",
    "        \n",
    "        if len(heart_rates) >= 5:  # Check patterns every 5 seconds\n",
    "            pattern = monitor.detect_irregular_pattern(heart_rates[-5:], acc_data[-5:])\n",
    "            if pattern:\n",
    "                current_area = random.choice(monitor.areas)\n",
    "                monitor.generate_alert(pattern, current_area[\"name\"], current_area[\"risk\"])\n",
    "                break\n",
    "        \n",
    "        time.sleep(0.1)\n",
    "    \n",
    "    if not pattern:\n",
    "        print(\"\\n\" + Fore.GREEN + \"Monitoring complete. No irregular patterns detected.\")\n",
    "\n",
    "if __name__ == \"__main__\":\n",
    "    simulate_smartwatch_monitoring()"
   ]
  },
  {
   "cell_type": "code",
   "execution_count": null,
   "id": "14ad90d5-b456-475d-afee-4e25db1cdef5",
   "metadata": {},
   "outputs": [],
   "source": []
  },
  {
   "cell_type": "code",
   "execution_count": null,
   "id": "a701d190-f936-4b9f-bd6a-0e573b415635",
   "metadata": {},
   "outputs": [],
   "source": []
  }
 ],
 "metadata": {
  "kernelspec": {
   "display_name": "python (yolov5_env)",
   "language": "python",
   "name": "yolov5_env"
  },
  "language_info": {
   "codemirror_mode": {
    "name": "ipython",
    "version": 3
   },
   "file_extension": ".py",
   "mimetype": "text/x-python",
   "name": "python",
   "nbconvert_exporter": "python",
   "pygments_lexer": "ipython3",
   "version": "3.12.1"
  }
 },
 "nbformat": 4,
 "nbformat_minor": 5
}
