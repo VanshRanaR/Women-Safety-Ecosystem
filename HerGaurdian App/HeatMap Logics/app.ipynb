{
 "cells": [
  {
   "cell_type": "code",
   "execution_count": 1,
   "metadata": {},
   "outputs": [
    {
     "name": "stdout",
     "output_type": "stream",
     "text": [
      "Requirement already satisfied: openpyxl in c:\\users\\ybadr\\anaconda3\\anaconda\\lib\\site-packages (3.1.2)\n",
      "Requirement already satisfied: et-xmlfile in c:\\users\\ybadr\\anaconda3\\anaconda\\lib\\site-packages (from openpyxl) (1.1.0)\n",
      "Note: you may need to restart the kernel to use updated packages.\n"
     ]
    }
   ],
   "source": [
    "%pip install openpyxl"
   ]
  },
  {
   "cell_type": "code",
   "execution_count": 2,
   "metadata": {},
   "outputs": [],
   "source": [
    "import pandas as pd\n",
    "\n",
    "# Load your dataset\n",
    "df = pd.read_excel('women_safety_delhi_areas.xlsx')\n",
    "\n"
   ]
  },
  {
   "cell_type": "code",
   "execution_count": 3,
   "metadata": {},
   "outputs": [
    {
     "name": "stdout",
     "output_type": "stream",
     "text": [
      "New data added and file updated successfully.\n"
     ]
    }
   ],
   "source": [
    "file_path = 'women_safety_delhi_areas.xlsx'  # Update this path\n",
    "df = pd.read_excel(file_path)\n",
    "\n",
    "# New data to be added\n",
    "new_data = pd.DataFrame({\n",
    "    'Area Name': ['New Area'],\n",
    "    'Latitude': [28.6139],\n",
    "    'Longitude': [77.2090],\n",
    "    'Danger_Level': [3]\n",
    "})\n",
    "\n",
    "# Append new data to the DataFrame\n",
    "df = pd.concat([df, new_data], ignore_index=True)\n",
    "\n",
    "# Save the updated DataFrame back to the Excel file\n",
    "df.to_excel(file_path, index=False)\n",
    "\n",
    "print(\"New data added and file updated successfully.\")"
   ]
  },
  {
   "cell_type": "code",
   "execution_count": 4,
   "metadata": {},
   "outputs": [
    {
     "name": "stdout",
     "output_type": "stream",
     "text": [
      "Requirement already satisfied: folium in c:\\users\\ybadr\\anaconda3\\anaconda\\lib\\site-packages (0.17.0)\n",
      "Requirement already satisfied: branca>=0.6.0 in c:\\users\\ybadr\\anaconda3\\anaconda\\lib\\site-packages (from folium) (0.7.2)\n",
      "Requirement already satisfied: jinja2>=2.9 in c:\\users\\ybadr\\anaconda3\\anaconda\\lib\\site-packages (from folium) (3.1.4)\n",
      "Requirement already satisfied: numpy in c:\\users\\ybadr\\anaconda3\\anaconda\\lib\\site-packages (from folium) (1.26.4)\n",
      "Requirement already satisfied: requests in c:\\users\\ybadr\\anaconda3\\anaconda\\lib\\site-packages (from folium) (2.32.2)\n",
      "Requirement already satisfied: xyzservices in c:\\users\\ybadr\\anaconda3\\anaconda\\lib\\site-packages (from folium) (2022.9.0)\n",
      "Requirement already satisfied: MarkupSafe>=2.0 in c:\\users\\ybadr\\anaconda3\\anaconda\\lib\\site-packages (from jinja2>=2.9->folium) (2.1.3)\n",
      "Requirement already satisfied: charset-normalizer<4,>=2 in c:\\users\\ybadr\\anaconda3\\anaconda\\lib\\site-packages (from requests->folium) (2.0.4)\n",
      "Requirement already satisfied: idna<4,>=2.5 in c:\\users\\ybadr\\anaconda3\\anaconda\\lib\\site-packages (from requests->folium) (3.7)\n",
      "Requirement already satisfied: urllib3<3,>=1.21.1 in c:\\users\\ybadr\\anaconda3\\anaconda\\lib\\site-packages (from requests->folium) (2.2.2)\n",
      "Requirement already satisfied: certifi>=2017.4.17 in c:\\users\\ybadr\\anaconda3\\anaconda\\lib\\site-packages (from requests->folium) (2024.8.30)\n",
      "Note: you may need to restart the kernel to use updated packages.\n"
     ]
    }
   ],
   "source": [
    "%pip install folium\n",
    "import folium\n",
    "import pandas as pd\n",
    "from folium.plugins import HeatMap\n",
    "\n",
    "# Load updated dataset\n",
    "df = pd.read_excel('women_safety_delhi_areas.xlsx')\n",
    "\n",
    "# Initialize the map centered on Delhi\n",
    "m = folium.Map(location=[28.6139, 77.2090], zoom_start=12)\n",
    "\n",
    "# Add heatmap data\n",
    "heat_data = [[row['Latitude'], row['Longitude'], row['Danger_Level']] for index, row in df.iterrows()]\n",
    "HeatMap(heat_data).add_to(m)\n",
    "\n",
    "# Save the heatmap to an HTML file\n",
    "m.save('heatmap.html')\n"
   ]
  },
  {
   "cell_type": "code",
   "execution_count": null,
   "metadata": {},
   "outputs": [],
   "source": []
  }
 ],
 "metadata": {
  "kernelspec": {
   "display_name": "Python 3 (ipykernel)",
   "language": "python",
   "name": "python3"
  },
  "language_info": {
   "codemirror_mode": {
    "name": "ipython",
    "version": 3
   },
   "file_extension": ".py",
   "mimetype": "text/x-python",
   "name": "python",
   "nbconvert_exporter": "python",
   "pygments_lexer": "ipython3",
   "version": "3.11.5"
  }
 },
 "nbformat": 4,
 "nbformat_minor": 4
}
