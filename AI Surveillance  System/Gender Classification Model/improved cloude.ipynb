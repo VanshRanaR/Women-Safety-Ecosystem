{
 "cells": [
  {
   "cell_type": "code",
   "execution_count": 2,
   "id": "6fd0df17-08c5-49be-91ce-f1f22fc784e5",
   "metadata": {},
   "outputs": [],
   "source": [
    "import os\n",
    "import cv2\n",
    "import numpy as np\n",
    "from sklearn.model_selection import train_test_split\n",
    "from tensorflow.keras.models import Sequential\n",
    "from tensorflow.keras.layers import Conv2D, MaxPooling2D, Dense, Flatten, Dropout, BatchNormalization\n",
    "from tensorflow.keras.optimizers import Adam\n",
    "from tensorflow.keras.preprocessing.image import ImageDataGenerator\n",
    "from tensorflow.keras.callbacks import EarlyStopping, ReduceLROnPlateau\n",
    "from tensorflow.keras.utils import to_categorical\n"
   ]
  },
  {
   "cell_type": "code",
   "execution_count": 3,
   "id": "bb4a7286-ded6-4c77-8875-6c43bbf93a48",
   "metadata": {},
   "outputs": [],
   "source": [
    "# Constants\n",
    "IMG_SIZE = 128\n",
    "BATCH_SIZE = 32\n",
    "EPOCHS = 100"
   ]
  },
  {
   "cell_type": "code",
   "execution_count": 4,
   "id": "37d0ea17-9dc0-42b3-acaa-bde1b69c9b4c",
   "metadata": {},
   "outputs": [],
   "source": [
    "def load_data(directory):\n",
    "    images = []\n",
    "    labels = []\n",
    "    for label, gender in enumerate(['male', 'female']):\n",
    "        path = os.path.join(directory, gender)\n",
    "        for img_name in os.listdir(path):\n",
    "            img = cv2.imread(os.path.join(path, img_name))\n",
    "            img = cv2.resize(img, (IMG_SIZE, IMG_SIZE))\n",
    "            images.append(img)\n",
    "            labels.append(label)\n",
    "    return np.array(images), np.array(labels)\n",
    "\n",
    "# Load your dataset\n",
    "dataset_path = r\"C:\\SIH Project\\Dataset\\archive (2)\\CCTV Gender Classifier Dataset\"\n",
    "X, y = load_data(dataset_path)\n",
    "\n",
    "# Normalize pixel values\n",
    "X = X.astype('float32') / 255.0\n",
    "\n",
    "# Split the data\n",
    "X_train, X_test, y_train, y_test = train_test_split(X, y, test_size=0.2, random_state=42)\n",
    "\n",
    "# Convert labels to categorical\n",
    "y_train = to_categorical(y_train, 2)\n",
    "y_test = to_categorical(y_test, 2)"
   ]
  },
  {
   "cell_type": "code",
   "execution_count": 5,
   "id": "94983ada-cb8d-4d1e-8c75-a13c36dee00b",
   "metadata": {},
   "outputs": [],
   "source": [
    "# Data augmentation\n",
    "datagen = ImageDataGenerator(\n",
    "    rotation_range=20,\n",
    "    width_shift_range=0.2,\n",
    "    height_shift_range=0.2,\n",
    "    horizontal_flip=True,\n",
    "    zoom_range=0.2,\n",
    "    shear_range=0.2,\n",
    "    fill_mode='nearest'\n",
    ")"
   ]
  },
  {
   "cell_type": "code",
   "execution_count": 6,
   "id": "a01b817a-7b82-4913-ad8a-714b46e01c33",
   "metadata": {},
   "outputs": [
    {
     "name": "stderr",
     "output_type": "stream",
     "text": [
      "C:\\Users\\ybadr\\anaconda3\\Anaconda\\Lib\\site-packages\\keras\\src\\layers\\convolutional\\base_conv.py:107: UserWarning: Do not pass an `input_shape`/`input_dim` argument to a layer. When using Sequential models, prefer using an `Input(shape)` object as the first layer in the model instead.\n",
      "  super().__init__(activity_regularizer=activity_regularizer, **kwargs)\n"
     ]
    }
   ],
   "source": [
    "# Build the model\n",
    "model = Sequential([\n",
    "    Conv2D(32, (3, 3), activation='relu', input_shape=(IMG_SIZE, IMG_SIZE, 3)),\n",
    "    BatchNormalization(),\n",
    "    MaxPooling2D(2, 2),\n",
    "    \n",
    "    Conv2D(64, (3, 3), activation='relu'),\n",
    "    BatchNormalization(),\n",
    "    MaxPooling2D(2, 2),\n",
    "    \n",
    "    Conv2D(128, (3, 3), activation='relu'),\n",
    "    BatchNormalization(),\n",
    "    MaxPooling2D(2, 2),\n",
    "    \n",
    "    Conv2D(256, (3, 3), activation='relu'),\n",
    "    BatchNormalization(),\n",
    "    MaxPooling2D(2, 2),\n",
    "    \n",
    "    Flatten(),\n",
    "    Dense(512, activation='relu'),\n",
    "    BatchNormalization(),\n",
    "    Dropout(0.5),\n",
    "    Dense(2, activation='softmax')\n",
    "])"
   ]
  },
  {
   "cell_type": "code",
   "execution_count": 7,
   "id": "1cbaaf2a-62ea-4a47-9b25-70a9e4819da3",
   "metadata": {},
   "outputs": [],
   "source": [
    "# Compile the model\n",
    "model.compile(optimizer=Adam(learning_rate=0.0001),\n",
    "              loss='categorical_crossentropy',\n",
    "              metrics=['accuracy'])\n",
    "\n",
    "# Callbacks\n",
    "early_stopping = EarlyStopping(monitor='val_loss', patience=10, restore_best_weights=True)\n",
    "reduce_lr = ReduceLROnPlateau(monitor='val_loss', factor=0.2, patience=5, min_lr=1e-6)"
   ]
  },
  {
   "cell_type": "code",
   "execution_count": 8,
   "id": "289e2988-6576-400b-8256-e8b1da4b80af",
   "metadata": {},
   "outputs": [
    {
     "name": "stdout",
     "output_type": "stream",
     "text": [
      "Epoch 1/100\n"
     ]
    },
    {
     "name": "stderr",
     "output_type": "stream",
     "text": [
      "C:\\Users\\ybadr\\anaconda3\\Anaconda\\Lib\\site-packages\\keras\\src\\trainers\\data_adapters\\py_dataset_adapter.py:121: UserWarning: Your `PyDataset` class should call `super().__init__(**kwargs)` in its constructor. `**kwargs` can include `workers`, `use_multiprocessing`, `max_queue_size`. Do not pass these arguments to `fit()`, as they will be ignored.\n",
      "  self._warn_if_super_not_called()\n"
     ]
    },
    {
     "name": "stdout",
     "output_type": "stream",
     "text": [
      "\u001b[1m479/479\u001b[0m \u001b[32m━━━━━━━━━━━━━━━━━━━━\u001b[0m\u001b[37m\u001b[0m \u001b[1m110s\u001b[0m 218ms/step - accuracy: 0.5800 - loss: 1.1234 - val_accuracy: 0.5665 - val_loss: 0.8543 - learning_rate: 1.0000e-04\n",
      "Epoch 2/100\n",
      "\u001b[1m479/479\u001b[0m \u001b[32m━━━━━━━━━━━━━━━━━━━━\u001b[0m\u001b[37m\u001b[0m \u001b[1m106s\u001b[0m 220ms/step - accuracy: 0.6192 - loss: 0.8746 - val_accuracy: 0.6643 - val_loss: 0.6335 - learning_rate: 1.0000e-04\n",
      "Epoch 3/100\n",
      "\u001b[1m479/479\u001b[0m \u001b[32m━━━━━━━━━━━━━━━━━━━━\u001b[0m\u001b[37m\u001b[0m \u001b[1m106s\u001b[0m 220ms/step - accuracy: 0.6165 - loss: 0.8164 - val_accuracy: 0.6771 - val_loss: 0.6219 - learning_rate: 1.0000e-04\n",
      "Epoch 4/100\n",
      "\u001b[1m479/479\u001b[0m \u001b[32m━━━━━━━━━━━━━━━━━━━━\u001b[0m\u001b[37m\u001b[0m \u001b[1m104s\u001b[0m 215ms/step - accuracy: 0.6357 - loss: 0.7474 - val_accuracy: 0.6957 - val_loss: 0.5645 - learning_rate: 1.0000e-04\n",
      "Epoch 5/100\n",
      "\u001b[1m479/479\u001b[0m \u001b[32m━━━━━━━━━━━━━━━━━━━━\u001b[0m\u001b[37m\u001b[0m \u001b[1m106s\u001b[0m 220ms/step - accuracy: 0.6511 - loss: 0.7076 - val_accuracy: 0.6855 - val_loss: 0.5995 - learning_rate: 1.0000e-04\n",
      "Epoch 6/100\n",
      "\u001b[1m479/479\u001b[0m \u001b[32m━━━━━━━━━━━━━━━━━━━━\u001b[0m\u001b[37m\u001b[0m \u001b[1m106s\u001b[0m 219ms/step - accuracy: 0.6528 - loss: 0.6787 - val_accuracy: 0.7153 - val_loss: 0.5553 - learning_rate: 1.0000e-04\n",
      "Epoch 7/100\n",
      "\u001b[1m479/479\u001b[0m \u001b[32m━━━━━━━━━━━━━━━━━━━━\u001b[0m\u001b[37m\u001b[0m \u001b[1m105s\u001b[0m 217ms/step - accuracy: 0.6684 - loss: 0.6468 - val_accuracy: 0.6463 - val_loss: 0.6689 - learning_rate: 1.0000e-04\n",
      "Epoch 8/100\n",
      "\u001b[1m479/479\u001b[0m \u001b[32m━━━━━━━━━━━━━━━━━━━━\u001b[0m\u001b[37m\u001b[0m \u001b[1m106s\u001b[0m 220ms/step - accuracy: 0.6682 - loss: 0.6445 - val_accuracy: 0.7156 - val_loss: 0.5427 - learning_rate: 1.0000e-04\n",
      "Epoch 9/100\n",
      "\u001b[1m479/479\u001b[0m \u001b[32m━━━━━━━━━━━━━━━━━━━━\u001b[0m\u001b[37m\u001b[0m \u001b[1m106s\u001b[0m 219ms/step - accuracy: 0.6807 - loss: 0.6096 - val_accuracy: 0.7318 - val_loss: 0.5156 - learning_rate: 1.0000e-04\n",
      "Epoch 10/100\n",
      "\u001b[1m479/479\u001b[0m \u001b[32m━━━━━━━━━━━━━━━━━━━━\u001b[0m\u001b[37m\u001b[0m \u001b[1m106s\u001b[0m 220ms/step - accuracy: 0.6984 - loss: 0.5773 - val_accuracy: 0.7284 - val_loss: 0.5490 - learning_rate: 1.0000e-04\n",
      "Epoch 11/100\n",
      "\u001b[1m479/479\u001b[0m \u001b[32m━━━━━━━━━━━━━━━━━━━━\u001b[0m\u001b[37m\u001b[0m \u001b[1m105s\u001b[0m 219ms/step - accuracy: 0.6882 - loss: 0.5845 - val_accuracy: 0.7454 - val_loss: 0.5011 - learning_rate: 1.0000e-04\n",
      "Epoch 12/100\n",
      "\u001b[1m479/479\u001b[0m \u001b[32m━━━━━━━━━━━━━━━━━━━━\u001b[0m\u001b[37m\u001b[0m \u001b[1m106s\u001b[0m 220ms/step - accuracy: 0.7019 - loss: 0.5645 - val_accuracy: 0.7498 - val_loss: 0.4990 - learning_rate: 1.0000e-04\n",
      "Epoch 13/100\n",
      "\u001b[1m479/479\u001b[0m \u001b[32m━━━━━━━━━━━━━━━━━━━━\u001b[0m\u001b[37m\u001b[0m \u001b[1m105s\u001b[0m 217ms/step - accuracy: 0.7162 - loss: 0.5476 - val_accuracy: 0.7422 - val_loss: 0.5057 - learning_rate: 1.0000e-04\n",
      "Epoch 14/100\n",
      "\u001b[1m479/479\u001b[0m \u001b[32m━━━━━━━━━━━━━━━━━━━━\u001b[0m\u001b[37m\u001b[0m \u001b[1m106s\u001b[0m 219ms/step - accuracy: 0.7272 - loss: 0.5369 - val_accuracy: 0.7739 - val_loss: 0.4631 - learning_rate: 1.0000e-04\n",
      "Epoch 15/100\n",
      "\u001b[1m479/479\u001b[0m \u001b[32m━━━━━━━━━━━━━━━━━━━━\u001b[0m\u001b[37m\u001b[0m \u001b[1m106s\u001b[0m 219ms/step - accuracy: 0.7361 - loss: 0.5162 - val_accuracy: 0.7830 - val_loss: 0.4537 - learning_rate: 1.0000e-04\n",
      "Epoch 16/100\n",
      "\u001b[1m479/479\u001b[0m \u001b[32m━━━━━━━━━━━━━━━━━━━━\u001b[0m\u001b[37m\u001b[0m \u001b[1m106s\u001b[0m 220ms/step - accuracy: 0.7422 - loss: 0.5086 - val_accuracy: 0.7689 - val_loss: 0.4571 - learning_rate: 1.0000e-04\n",
      "Epoch 17/100\n",
      "\u001b[1m479/479\u001b[0m \u001b[32m━━━━━━━━━━━━━━━━━━━━\u001b[0m\u001b[37m\u001b[0m \u001b[1m106s\u001b[0m 219ms/step - accuracy: 0.7417 - loss: 0.5035 - val_accuracy: 0.7861 - val_loss: 0.4655 - learning_rate: 1.0000e-04\n",
      "Epoch 18/100\n",
      "\u001b[1m479/479\u001b[0m \u001b[32m━━━━━━━━━━━━━━━━━━━━\u001b[0m\u001b[37m\u001b[0m \u001b[1m149s\u001b[0m 310ms/step - accuracy: 0.7500 - loss: 0.4929 - val_accuracy: 0.7796 - val_loss: 0.4383 - learning_rate: 1.0000e-04\n",
      "Epoch 19/100\n",
      "\u001b[1m479/479\u001b[0m \u001b[32m━━━━━━━━━━━━━━━━━━━━\u001b[0m\u001b[37m\u001b[0m \u001b[1m102s\u001b[0m 211ms/step - accuracy: 0.7547 - loss: 0.4867 - val_accuracy: 0.7882 - val_loss: 0.4212 - learning_rate: 1.0000e-04\n",
      "Epoch 20/100\n",
      "\u001b[1m479/479\u001b[0m \u001b[32m━━━━━━━━━━━━━━━━━━━━\u001b[0m\u001b[37m\u001b[0m \u001b[1m106s\u001b[0m 220ms/step - accuracy: 0.7615 - loss: 0.4731 - val_accuracy: 0.7982 - val_loss: 0.4248 - learning_rate: 1.0000e-04\n",
      "Epoch 21/100\n",
      "\u001b[1m479/479\u001b[0m \u001b[32m━━━━━━━━━━━━━━━━━━━━\u001b[0m\u001b[37m\u001b[0m \u001b[1m107s\u001b[0m 222ms/step - accuracy: 0.7649 - loss: 0.4717 - val_accuracy: 0.7875 - val_loss: 0.4261 - learning_rate: 1.0000e-04\n",
      "Epoch 22/100\n",
      "\u001b[1m479/479\u001b[0m \u001b[32m━━━━━━━━━━━━━━━━━━━━\u001b[0m\u001b[37m\u001b[0m \u001b[1m108s\u001b[0m 224ms/step - accuracy: 0.7748 - loss: 0.4569 - val_accuracy: 0.8068 - val_loss: 0.3927 - learning_rate: 1.0000e-04\n",
      "Epoch 23/100\n",
      "\u001b[1m479/479\u001b[0m \u001b[32m━━━━━━━━━━━━━━━━━━━━\u001b[0m\u001b[37m\u001b[0m \u001b[1m106s\u001b[0m 220ms/step - accuracy: 0.7740 - loss: 0.4584 - val_accuracy: 0.8167 - val_loss: 0.3806 - learning_rate: 1.0000e-04\n",
      "Epoch 24/100\n",
      "\u001b[1m479/479\u001b[0m \u001b[32m━━━━━━━━━━━━━━━━━━━━\u001b[0m\u001b[37m\u001b[0m \u001b[1m105s\u001b[0m 219ms/step - accuracy: 0.7732 - loss: 0.4521 - val_accuracy: 0.8141 - val_loss: 0.3803 - learning_rate: 1.0000e-04\n",
      "Epoch 25/100\n",
      "\u001b[1m479/479\u001b[0m \u001b[32m━━━━━━━━━━━━━━━━━━━━\u001b[0m\u001b[37m\u001b[0m \u001b[1m106s\u001b[0m 220ms/step - accuracy: 0.7828 - loss: 0.4378 - val_accuracy: 0.8186 - val_loss: 0.3852 - learning_rate: 1.0000e-04\n",
      "Epoch 26/100\n",
      "\u001b[1m479/479\u001b[0m \u001b[32m━━━━━━━━━━━━━━━━━━━━\u001b[0m\u001b[37m\u001b[0m \u001b[1m106s\u001b[0m 219ms/step - accuracy: 0.7894 - loss: 0.4295 - val_accuracy: 0.8086 - val_loss: 0.3973 - learning_rate: 1.0000e-04\n",
      "Epoch 27/100\n",
      "\u001b[1m479/479\u001b[0m \u001b[32m━━━━━━━━━━━━━━━━━━━━\u001b[0m\u001b[37m\u001b[0m \u001b[1m106s\u001b[0m 219ms/step - accuracy: 0.7972 - loss: 0.4219 - val_accuracy: 0.8227 - val_loss: 0.3694 - learning_rate: 1.0000e-04\n",
      "Epoch 28/100\n",
      "\u001b[1m479/479\u001b[0m \u001b[32m━━━━━━━━━━━━━━━━━━━━\u001b[0m\u001b[37m\u001b[0m \u001b[1m106s\u001b[0m 220ms/step - accuracy: 0.7916 - loss: 0.4280 - val_accuracy: 0.8356 - val_loss: 0.3409 - learning_rate: 1.0000e-04\n",
      "Epoch 29/100\n",
      "\u001b[1m479/479\u001b[0m \u001b[32m━━━━━━━━━━━━━━━━━━━━\u001b[0m\u001b[37m\u001b[0m \u001b[1m112s\u001b[0m 232ms/step - accuracy: 0.7969 - loss: 0.4194 - val_accuracy: 0.8256 - val_loss: 0.3783 - learning_rate: 1.0000e-04\n",
      "Epoch 30/100\n",
      "\u001b[1m479/479\u001b[0m \u001b[32m━━━━━━━━━━━━━━━━━━━━\u001b[0m\u001b[37m\u001b[0m \u001b[1m106s\u001b[0m 221ms/step - accuracy: 0.8090 - loss: 0.3973 - val_accuracy: 0.8463 - val_loss: 0.3538 - learning_rate: 1.0000e-04\n",
      "Epoch 31/100\n",
      "\u001b[1m479/479\u001b[0m \u001b[32m━━━━━━━━━━━━━━━━━━━━\u001b[0m\u001b[37m\u001b[0m \u001b[1m106s\u001b[0m 220ms/step - accuracy: 0.8037 - loss: 0.4085 - val_accuracy: 0.8086 - val_loss: 0.4129 - learning_rate: 1.0000e-04\n",
      "Epoch 32/100\n",
      "\u001b[1m479/479\u001b[0m \u001b[32m━━━━━━━━━━━━━━━━━━━━\u001b[0m\u001b[37m\u001b[0m \u001b[1m106s\u001b[0m 220ms/step - accuracy: 0.7985 - loss: 0.4187 - val_accuracy: 0.8424 - val_loss: 0.3517 - learning_rate: 1.0000e-04\n",
      "Epoch 33/100\n",
      "\u001b[1m479/479\u001b[0m \u001b[32m━━━━━━━━━━━━━━━━━━━━\u001b[0m\u001b[37m\u001b[0m \u001b[1m109s\u001b[0m 226ms/step - accuracy: 0.8085 - loss: 0.4000 - val_accuracy: 0.8533 - val_loss: 0.3254 - learning_rate: 1.0000e-04\n",
      "Epoch 34/100\n",
      "\u001b[1m479/479\u001b[0m \u001b[32m━━━━━━━━━━━━━━━━━━━━\u001b[0m\u001b[37m\u001b[0m \u001b[1m116s\u001b[0m 240ms/step - accuracy: 0.8104 - loss: 0.3966 - val_accuracy: 0.8395 - val_loss: 0.3567 - learning_rate: 1.0000e-04\n",
      "Epoch 35/100\n",
      "\u001b[1m479/479\u001b[0m \u001b[32m━━━━━━━━━━━━━━━━━━━━\u001b[0m\u001b[37m\u001b[0m \u001b[1m105s\u001b[0m 218ms/step - accuracy: 0.8172 - loss: 0.3923 - val_accuracy: 0.8486 - val_loss: 0.3356 - learning_rate: 1.0000e-04\n",
      "Epoch 36/100\n",
      "\u001b[1m479/479\u001b[0m \u001b[32m━━━━━━━━━━━━━━━━━━━━\u001b[0m\u001b[37m\u001b[0m \u001b[1m106s\u001b[0m 219ms/step - accuracy: 0.8118 - loss: 0.3892 - val_accuracy: 0.8502 - val_loss: 0.3288 - learning_rate: 1.0000e-04\n",
      "Epoch 37/100\n",
      "\u001b[1m479/479\u001b[0m \u001b[32m━━━━━━━━━━━━━━━━━━━━\u001b[0m\u001b[37m\u001b[0m \u001b[1m106s\u001b[0m 220ms/step - accuracy: 0.8158 - loss: 0.3859 - val_accuracy: 0.8308 - val_loss: 0.3725 - learning_rate: 1.0000e-04\n",
      "Epoch 38/100\n",
      "\u001b[1m479/479\u001b[0m \u001b[32m━━━━━━━━━━━━━━━━━━━━\u001b[0m\u001b[37m\u001b[0m \u001b[1m105s\u001b[0m 218ms/step - accuracy: 0.8179 - loss: 0.3886 - val_accuracy: 0.8429 - val_loss: 0.3331 - learning_rate: 1.0000e-04\n",
      "Epoch 39/100\n",
      "\u001b[1m479/479\u001b[0m \u001b[32m━━━━━━━━━━━━━━━━━━━━\u001b[0m\u001b[37m\u001b[0m \u001b[1m106s\u001b[0m 219ms/step - accuracy: 0.8188 - loss: 0.3780 - val_accuracy: 0.8633 - val_loss: 0.2996 - learning_rate: 2.0000e-05\n",
      "Epoch 40/100\n",
      "\u001b[1m479/479\u001b[0m \u001b[32m━━━━━━━━━━━━━━━━━━━━\u001b[0m\u001b[37m\u001b[0m \u001b[1m106s\u001b[0m 220ms/step - accuracy: 0.8356 - loss: 0.3497 - val_accuracy: 0.8630 - val_loss: 0.3032 - learning_rate: 2.0000e-05\n",
      "Epoch 41/100\n",
      "\u001b[1m479/479\u001b[0m \u001b[32m━━━━━━━━━━━━━━━━━━━━\u001b[0m\u001b[37m\u001b[0m \u001b[1m105s\u001b[0m 219ms/step - accuracy: 0.8376 - loss: 0.3521 - val_accuracy: 0.8677 - val_loss: 0.2956 - learning_rate: 2.0000e-05\n",
      "Epoch 42/100\n",
      "\u001b[1m479/479\u001b[0m \u001b[32m━━━━━━━━━━━━━━━━━━━━\u001b[0m\u001b[37m\u001b[0m \u001b[1m106s\u001b[0m 220ms/step - accuracy: 0.8363 - loss: 0.3497 - val_accuracy: 0.8693 - val_loss: 0.2945 - learning_rate: 2.0000e-05\n",
      "Epoch 43/100\n",
      "\u001b[1m479/479\u001b[0m \u001b[32m━━━━━━━━━━━━━━━━━━━━\u001b[0m\u001b[37m\u001b[0m \u001b[1m106s\u001b[0m 219ms/step - accuracy: 0.8454 - loss: 0.3381 - val_accuracy: 0.8633 - val_loss: 0.2948 - learning_rate: 2.0000e-05\n",
      "Epoch 44/100\n",
      "\u001b[1m479/479\u001b[0m \u001b[32m━━━━━━━━━━━━━━━━━━━━\u001b[0m\u001b[37m\u001b[0m \u001b[1m105s\u001b[0m 218ms/step - accuracy: 0.8443 - loss: 0.3365 - val_accuracy: 0.8664 - val_loss: 0.2966 - learning_rate: 2.0000e-05\n",
      "Epoch 45/100\n",
      "\u001b[1m479/479\u001b[0m \u001b[32m━━━━━━━━━━━━━━━━━━━━\u001b[0m\u001b[37m\u001b[0m \u001b[1m105s\u001b[0m 218ms/step - accuracy: 0.8426 - loss: 0.3330 - val_accuracy: 0.8708 - val_loss: 0.2896 - learning_rate: 2.0000e-05\n",
      "Epoch 46/100\n",
      "\u001b[1m479/479\u001b[0m \u001b[32m━━━━━━━━━━━━━━━━━━━━\u001b[0m\u001b[37m\u001b[0m \u001b[1m107s\u001b[0m 221ms/step - accuracy: 0.8506 - loss: 0.3324 - val_accuracy: 0.8698 - val_loss: 0.2877 - learning_rate: 2.0000e-05\n",
      "Epoch 47/100\n",
      "\u001b[1m479/479\u001b[0m \u001b[32m━━━━━━━━━━━━━━━━━━━━\u001b[0m\u001b[37m\u001b[0m \u001b[1m106s\u001b[0m 220ms/step - accuracy: 0.8477 - loss: 0.3301 - val_accuracy: 0.8719 - val_loss: 0.2910 - learning_rate: 2.0000e-05\n",
      "Epoch 48/100\n",
      "\u001b[1m479/479\u001b[0m \u001b[32m━━━━━━━━━━━━━━━━━━━━\u001b[0m\u001b[37m\u001b[0m \u001b[1m106s\u001b[0m 219ms/step - accuracy: 0.8548 - loss: 0.3227 - val_accuracy: 0.8698 - val_loss: 0.2885 - learning_rate: 2.0000e-05\n",
      "Epoch 49/100\n",
      "\u001b[1m479/479\u001b[0m \u001b[32m━━━━━━━━━━━━━━━━━━━━\u001b[0m\u001b[37m\u001b[0m \u001b[1m106s\u001b[0m 220ms/step - accuracy: 0.8514 - loss: 0.3241 - val_accuracy: 0.8654 - val_loss: 0.2987 - learning_rate: 2.0000e-05\n",
      "Epoch 50/100\n",
      "\u001b[1m479/479\u001b[0m \u001b[32m━━━━━━━━━━━━━━━━━━━━\u001b[0m\u001b[37m\u001b[0m \u001b[1m106s\u001b[0m 219ms/step - accuracy: 0.8503 - loss: 0.3263 - val_accuracy: 0.8695 - val_loss: 0.2872 - learning_rate: 2.0000e-05\n",
      "Epoch 51/100\n",
      "\u001b[1m479/479\u001b[0m \u001b[32m━━━━━━━━━━━━━━━━━━━━\u001b[0m\u001b[37m\u001b[0m \u001b[1m106s\u001b[0m 220ms/step - accuracy: 0.8563 - loss: 0.3181 - val_accuracy: 0.8771 - val_loss: 0.2848 - learning_rate: 2.0000e-05\n",
      "Epoch 52/100\n",
      "\u001b[1m479/479\u001b[0m \u001b[32m━━━━━━━━━━━━━━━━━━━━\u001b[0m\u001b[37m\u001b[0m \u001b[1m106s\u001b[0m 219ms/step - accuracy: 0.8517 - loss: 0.3248 - val_accuracy: 0.8737 - val_loss: 0.2844 - learning_rate: 2.0000e-05\n",
      "Epoch 53/100\n",
      "\u001b[1m479/479\u001b[0m \u001b[32m━━━━━━━━━━━━━━━━━━━━\u001b[0m\u001b[37m\u001b[0m \u001b[1m105s\u001b[0m 218ms/step - accuracy: 0.8599 - loss: 0.3157 - val_accuracy: 0.8732 - val_loss: 0.2859 - learning_rate: 2.0000e-05\n",
      "Epoch 54/100\n",
      "\u001b[1m479/479\u001b[0m \u001b[32m━━━━━━━━━━━━━━━━━━━━\u001b[0m\u001b[37m\u001b[0m \u001b[1m105s\u001b[0m 219ms/step - accuracy: 0.8504 - loss: 0.3251 - val_accuracy: 0.8763 - val_loss: 0.2835 - learning_rate: 2.0000e-05\n",
      "Epoch 55/100\n",
      "\u001b[1m479/479\u001b[0m \u001b[32m━━━━━━━━━━━━━━━━━━━━\u001b[0m\u001b[37m\u001b[0m \u001b[1m105s\u001b[0m 218ms/step - accuracy: 0.8547 - loss: 0.3166 - val_accuracy: 0.8750 - val_loss: 0.2811 - learning_rate: 2.0000e-05\n",
      "Epoch 56/100\n",
      "\u001b[1m479/479\u001b[0m \u001b[32m━━━━━━━━━━━━━━━━━━━━\u001b[0m\u001b[37m\u001b[0m \u001b[1m105s\u001b[0m 217ms/step - accuracy: 0.8537 - loss: 0.3176 - val_accuracy: 0.8682 - val_loss: 0.2902 - learning_rate: 2.0000e-05\n",
      "Epoch 57/100\n",
      "\u001b[1m479/479\u001b[0m \u001b[32m━━━━━━━━━━━━━━━━━━━━\u001b[0m\u001b[37m\u001b[0m \u001b[1m106s\u001b[0m 219ms/step - accuracy: 0.8586 - loss: 0.3057 - val_accuracy: 0.8716 - val_loss: 0.2886 - learning_rate: 2.0000e-05\n",
      "Epoch 58/100\n",
      "\u001b[1m479/479\u001b[0m \u001b[32m━━━━━━━━━━━━━━━━━━━━\u001b[0m\u001b[37m\u001b[0m \u001b[1m105s\u001b[0m 219ms/step - accuracy: 0.8622 - loss: 0.3161 - val_accuracy: 0.8735 - val_loss: 0.2825 - learning_rate: 2.0000e-05\n",
      "Epoch 59/100\n",
      "\u001b[1m479/479\u001b[0m \u001b[32m━━━━━━━━━━━━━━━━━━━━\u001b[0m\u001b[37m\u001b[0m \u001b[1m106s\u001b[0m 219ms/step - accuracy: 0.8503 - loss: 0.3271 - val_accuracy: 0.8805 - val_loss: 0.2841 - learning_rate: 2.0000e-05\n",
      "Epoch 60/100\n",
      "\u001b[1m479/479\u001b[0m \u001b[32m━━━━━━━━━━━━━━━━━━━━\u001b[0m\u001b[37m\u001b[0m \u001b[1m105s\u001b[0m 217ms/step - accuracy: 0.8566 - loss: 0.3149 - val_accuracy: 0.8800 - val_loss: 0.2845 - learning_rate: 2.0000e-05\n",
      "Epoch 61/100\n",
      "\u001b[1m479/479\u001b[0m \u001b[32m━━━━━━━━━━━━━━━━━━━━\u001b[0m\u001b[37m\u001b[0m \u001b[1m105s\u001b[0m 218ms/step - accuracy: 0.8638 - loss: 0.3070 - val_accuracy: 0.8795 - val_loss: 0.2745 - learning_rate: 4.0000e-06\n",
      "Epoch 62/100\n",
      "\u001b[1m479/479\u001b[0m \u001b[32m━━━━━━━━━━━━━━━━━━━━\u001b[0m\u001b[37m\u001b[0m \u001b[1m105s\u001b[0m 219ms/step - accuracy: 0.8682 - loss: 0.3013 - val_accuracy: 0.8792 - val_loss: 0.2771 - learning_rate: 4.0000e-06\n",
      "Epoch 63/100\n",
      "\u001b[1m479/479\u001b[0m \u001b[32m━━━━━━━━━━━━━━━━━━━━\u001b[0m\u001b[37m\u001b[0m \u001b[1m105s\u001b[0m 219ms/step - accuracy: 0.8567 - loss: 0.3205 - val_accuracy: 0.8805 - val_loss: 0.2753 - learning_rate: 4.0000e-06\n",
      "Epoch 64/100\n",
      "\u001b[1m479/479\u001b[0m \u001b[32m━━━━━━━━━━━━━━━━━━━━\u001b[0m\u001b[37m\u001b[0m \u001b[1m105s\u001b[0m 218ms/step - accuracy: 0.8599 - loss: 0.3141 - val_accuracy: 0.8808 - val_loss: 0.2727 - learning_rate: 4.0000e-06\n",
      "Epoch 65/100\n",
      "\u001b[1m479/479\u001b[0m \u001b[32m━━━━━━━━━━━━━━━━━━━━\u001b[0m\u001b[37m\u001b[0m \u001b[1m105s\u001b[0m 218ms/step - accuracy: 0.8569 - loss: 0.3085 - val_accuracy: 0.8790 - val_loss: 0.2772 - learning_rate: 4.0000e-06\n",
      "Epoch 66/100\n",
      "\u001b[1m479/479\u001b[0m \u001b[32m━━━━━━━━━━━━━━━━━━━━\u001b[0m\u001b[37m\u001b[0m \u001b[1m104s\u001b[0m 217ms/step - accuracy: 0.8599 - loss: 0.3064 - val_accuracy: 0.8792 - val_loss: 0.2752 - learning_rate: 4.0000e-06\n",
      "Epoch 67/100\n",
      "\u001b[1m479/479\u001b[0m \u001b[32m━━━━━━━━━━━━━━━━━━━━\u001b[0m\u001b[37m\u001b[0m \u001b[1m105s\u001b[0m 218ms/step - accuracy: 0.8704 - loss: 0.2979 - val_accuracy: 0.8826 - val_loss: 0.2744 - learning_rate: 4.0000e-06\n",
      "Epoch 68/100\n",
      "\u001b[1m479/479\u001b[0m \u001b[32m━━━━━━━━━━━━━━━━━━━━\u001b[0m\u001b[37m\u001b[0m \u001b[1m105s\u001b[0m 218ms/step - accuracy: 0.8654 - loss: 0.2970 - val_accuracy: 0.8831 - val_loss: 0.2728 - learning_rate: 4.0000e-06\n",
      "Epoch 69/100\n",
      "\u001b[1m479/479\u001b[0m \u001b[32m━━━━━━━━━━━━━━━━━━━━\u001b[0m\u001b[37m\u001b[0m \u001b[1m105s\u001b[0m 217ms/step - accuracy: 0.8634 - loss: 0.3069 - val_accuracy: 0.8805 - val_loss: 0.2728 - learning_rate: 4.0000e-06\n",
      "Epoch 70/100\n",
      "\u001b[1m479/479\u001b[0m \u001b[32m━━━━━━━━━━━━━━━━━━━━\u001b[0m\u001b[37m\u001b[0m \u001b[1m105s\u001b[0m 218ms/step - accuracy: 0.8614 - loss: 0.3082 - val_accuracy: 0.8803 - val_loss: 0.2740 - learning_rate: 1.0000e-06\n",
      "Epoch 71/100\n",
      "\u001b[1m479/479\u001b[0m \u001b[32m━━━━━━━━━━━━━━━━━━━━\u001b[0m\u001b[37m\u001b[0m \u001b[1m106s\u001b[0m 219ms/step - accuracy: 0.8674 - loss: 0.2946 - val_accuracy: 0.8803 - val_loss: 0.2744 - learning_rate: 1.0000e-06\n",
      "Epoch 72/100\n",
      "\u001b[1m479/479\u001b[0m \u001b[32m━━━━━━━━━━━━━━━━━━━━\u001b[0m\u001b[37m\u001b[0m \u001b[1m105s\u001b[0m 219ms/step - accuracy: 0.8696 - loss: 0.2924 - val_accuracy: 0.8821 - val_loss: 0.2734 - learning_rate: 1.0000e-06\n",
      "Epoch 73/100\n",
      "\u001b[1m479/479\u001b[0m \u001b[32m━━━━━━━━━━━━━━━━━━━━\u001b[0m\u001b[37m\u001b[0m \u001b[1m105s\u001b[0m 218ms/step - accuracy: 0.8627 - loss: 0.3044 - val_accuracy: 0.8803 - val_loss: 0.2739 - learning_rate: 1.0000e-06\n",
      "Epoch 74/100\n",
      "\u001b[1m479/479\u001b[0m \u001b[32m━━━━━━━━━━━━━━━━━━━━\u001b[0m\u001b[37m\u001b[0m \u001b[1m105s\u001b[0m 218ms/step - accuracy: 0.8687 - loss: 0.3050 - val_accuracy: 0.8816 - val_loss: 0.2729 - learning_rate: 1.0000e-06\n"
     ]
    }
   ],
   "source": [
    "# Train the model\n",
    "history = model.fit(\n",
    "    datagen.flow(X_train, y_train, batch_size=BATCH_SIZE),\n",
    "    epochs=EPOCHS,\n",
    "    validation_data=(X_test, y_test),\n",
    "    callbacks=[early_stopping, reduce_lr]\n",
    ")\n"
   ]
  },
  {
   "cell_type": "code",
   "execution_count": 10,
   "id": "bb18de25-12c7-44de-b237-a8084104acde",
   "metadata": {},
   "outputs": [
    {
     "name": "stdout",
     "output_type": "stream",
     "text": [
      "\u001b[1m120/120\u001b[0m \u001b[32m━━━━━━━━━━━━━━━━━━━━\u001b[0m\u001b[37m\u001b[0m \u001b[1m4s\u001b[0m 36ms/step - accuracy: 0.8870 - loss: 0.2656\n"
     ]
    },
    {
     "name": "stderr",
     "output_type": "stream",
     "text": [
      "WARNING:absl:You are saving your model as an HDF5 file via `model.save()` or `keras.saving.save_model(model)`. This file format is considered legacy. We recommend using instead the native Keras format, e.g. `model.save('my_model.keras')` or `keras.saving.save_model(model, 'my_model.keras')`. \n"
     ]
    },
    {
     "name": "stdout",
     "output_type": "stream",
     "text": [
      "Test accuracy: 0.8808\n"
     ]
    }
   ],
   "source": [
    "# Evaluate the model\n",
    "test_loss, test_accuracy = model.evaluate(X_test, y_test)\n",
    "print(f\"Test accuracy: {test_accuracy:.4f}\")\n",
    "\n",
    "# Save the model\n",
    "model.save('cctv_gender_classifier.h5')"
   ]
  },
  {
   "cell_type": "code",
   "execution_count": null,
   "id": "afb304b1-bdfc-4bbf-a161-e52b34f1ff79",
   "metadata": {},
   "outputs": [],
   "source": []
  }
 ],
 "metadata": {
  "kernelspec": {
   "display_name": "Python 3 (ipykernel)",
   "language": "python",
   "name": "python3"
  },
  "language_info": {
   "codemirror_mode": {
    "name": "ipython",
    "version": 3
   },
   "file_extension": ".py",
   "mimetype": "text/x-python",
   "name": "python",
   "nbconvert_exporter": "python",
   "pygments_lexer": "ipython3",
   "version": "3.11.5"
  }
 },
 "nbformat": 4,
 "nbformat_minor": 5
}
